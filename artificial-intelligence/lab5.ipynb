{
 "cells": [
  {
   "cell_type": "markdown",
   "id": "b8210b19",
   "metadata": {},
   "source": [
    "## A.I. Assignment 5\n",
    "\n",
    "## Learning Goals\n",
    "\n",
    "By the end of this lab, you should be able to:\n",
    "* Get more familiar with tensors in pytorch \n",
    "* Create a simple multilayer perceptron model with pytorch\n",
    "* Visualise the parameters\n",
    "\n",
    "\n",
    "### Task\n",
    "\n",
    "Build a fully connected feed forward network that adds two bits. Determine the a propper achitecture for this network (what database you use for this problem? how many layers? how many neurons on each layer? what is the activation function? what is the loss function? etc)\n",
    "\n",
    "Create at least 3 such networks and compare their performance (how accurate they are?, how farst they are trained to get at 1 accuracy?)\n",
    "\n",
    "Display for the best one the weights for each layer.\n"
   ]
  },
  {
   "cell_type": "code",
   "execution_count": 75,
   "id": "e3614e5f",
   "metadata": {},
   "outputs": [],
   "source": [
    "import torch\n",
    "import torch.nn as nn\n",
    "from collections import OrderedDict\n"
   ]
  },
  {
   "cell_type": "code",
   "execution_count": 76,
   "id": "5ee7e7d7",
   "metadata": {},
   "outputs": [],
   "source": [
    "# your code here\n",
    "model1 = torch.nn.Sequential(OrderedDict([\n",
    "   ('hidden', nn.Linear(2, 1)),\n",
    "    ('activation', nn.Sigmoid()),\n",
    "    ('output', nn.Linear(1, 2)),\n",
    "    ('sigmoid', nn.Sigmoid())\n",
    "]))\n",
    "\n",
    "optimizer1 = torch.optim.SGD(model1.parameters(), lr=0.1)"
   ]
  },
  {
   "cell_type": "code",
   "execution_count": 77,
   "id": "665ae958",
   "metadata": {},
   "outputs": [
    {
     "name": "stdout",
     "output_type": "stream",
     "text": [
      "Sequential(\n",
      "  (hidden): Linear(in_features=2, out_features=1, bias=True)\n",
      "  (activation): Sigmoid()\n",
      "  (output): Linear(in_features=1, out_features=2, bias=True)\n",
      "  (sigmoid): Sigmoid()\n",
      ")\n"
     ]
    }
   ],
   "source": [
    "print(model1)"
   ]
  },
  {
   "cell_type": "code",
   "execution_count": 78,
   "id": "2f263b92-e4f7-4dec-8250-43f4928af36d",
   "metadata": {},
   "outputs": [],
   "source": [
    "model2 = nn.Sequential(OrderedDict([\n",
    "   ('hidden', nn.Linear(2, 8)),\n",
    "    ('activation', nn.Sigmoid()),\n",
    "    ('output', nn.Linear(8, 2)),\n",
    "    ('sigmoid', nn.Sigmoid())\n",
    "]))\n",
    "\n",
    "optimizer2 = torch.optim.SGD(model2.parameters(), lr=0.1)"
   ]
  },
  {
   "cell_type": "code",
   "execution_count": 79,
   "id": "51ff337f-d51d-4410-bdd8-b7f8ef4a79bd",
   "metadata": {},
   "outputs": [
    {
     "name": "stdout",
     "output_type": "stream",
     "text": [
      "Sequential(\n",
      "  (hidden): Linear(in_features=2, out_features=8, bias=True)\n",
      "  (activation): Sigmoid()\n",
      "  (output): Linear(in_features=8, out_features=2, bias=True)\n",
      "  (sigmoid): Sigmoid()\n",
      ")\n"
     ]
    }
   ],
   "source": [
    "print(model2)"
   ]
  },
  {
   "cell_type": "code",
   "execution_count": 80,
   "id": "1694cc41-e3c9-4993-b8f7-6cf2e147b949",
   "metadata": {},
   "outputs": [],
   "source": [
    "model3 = nn.Sequential(OrderedDict([\n",
    "   ('hidden', nn.Linear(2, 8)),\n",
    "    ('activation', nn.SiLU()),\n",
    "    ('output', nn.Linear(8, 2)),\n",
    "    ('sigmoid', nn.Sigmoid())\n",
    "]))\n",
    "\n",
    "optimizer3 = torch.optim.SGD(model3.parameters(), lr=0.1)"
   ]
  },
  {
   "cell_type": "code",
   "execution_count": 81,
   "id": "325ef781-d93d-46c2-bffd-14f68b860af3",
   "metadata": {},
   "outputs": [
    {
     "name": "stdout",
     "output_type": "stream",
     "text": [
      "Sequential(\n",
      "  (hidden): Linear(in_features=2, out_features=8, bias=True)\n",
      "  (activation): SiLU()\n",
      "  (output): Linear(in_features=8, out_features=2, bias=True)\n",
      "  (sigmoid): Sigmoid()\n",
      ")\n"
     ]
    }
   ],
   "source": [
    "print(model3)"
   ]
  },
  {
   "cell_type": "code",
   "execution_count": 82,
   "id": "9669bf93-6a9b-4791-85ec-465f11bba757",
   "metadata": {},
   "outputs": [],
   "source": [
    "model4 = nn.Sequential(OrderedDict([\n",
    "   ('hidden_1', nn.Linear(2, 4)),\n",
    "    ('activation_1', nn.SiLU()),\n",
    "    ('hidden_2', nn.Linear(4, 16)),\n",
    "     ('activation_2', nn.SiLU()),\n",
    "     ('hidden_3', nn.Linear(16, 4)),\n",
    "      ('activation_3', nn.SiLU()),\n",
    "    ('output', nn.Linear(4, 2)),\n",
    "    ('sigmoid', nn.Sigmoid())\n",
    "]))\n",
    "\n",
    "optimizer4 = torch.optim.SGD(model4.parameters(), lr=0.1)"
   ]
  },
  {
   "cell_type": "code",
   "execution_count": 83,
   "id": "ddaf903a-609a-447b-9d70-3d16f9aa28e4",
   "metadata": {},
   "outputs": [
    {
     "name": "stdout",
     "output_type": "stream",
     "text": [
      "Sequential(\n",
      "  (hidden_1): Linear(in_features=2, out_features=4, bias=True)\n",
      "  (activation_1): SiLU()\n",
      "  (hidden_2): Linear(in_features=4, out_features=16, bias=True)\n",
      "  (activation_2): SiLU()\n",
      "  (hidden_3): Linear(in_features=16, out_features=4, bias=True)\n",
      "  (activation_3): SiLU()\n",
      "  (output): Linear(in_features=4, out_features=2, bias=True)\n",
      "  (sigmoid): Sigmoid()\n",
      ")\n"
     ]
    }
   ],
   "source": [
    "print(model4)"
   ]
  },
  {
   "cell_type": "code",
   "execution_count": null,
   "id": "8bdf69cb-d35b-4ba8-96c4-9e80d9c242e3",
   "metadata": {},
   "outputs": [],
   "source": []
  },
  {
   "cell_type": "code",
   "execution_count": null,
   "id": "100304bf-f524-466d-8ef1-44813b4a0714",
   "metadata": {},
   "outputs": [],
   "source": []
  },
  {
   "cell_type": "code",
   "execution_count": null,
   "id": "4ed6ab43-81dc-494d-84a0-9af0e06ead33",
   "metadata": {},
   "outputs": [],
   "source": []
  },
  {
   "cell_type": "code",
   "execution_count": null,
   "id": "f06cd508-6685-4926-95f9-f2ff84a48fbe",
   "metadata": {},
   "outputs": [],
   "source": []
  },
  {
   "cell_type": "code",
   "execution_count": 84,
   "id": "e26f0d3e",
   "metadata": {},
   "outputs": [
    {
     "name": "stdout",
     "output_type": "stream",
     "text": [
      "tensor([[0., 0.],\n",
      "        [0., 1.],\n",
      "        [1., 0.],\n",
      "        [1., 1.]])\n"
     ]
    }
   ],
   "source": [
    "# your code here\n",
    "data_in = torch.tensor([[0, 0], [0, 1], [1, 0], [1, 1]]).float()\n",
    "print(data_in)"
   ]
  },
  {
   "cell_type": "code",
   "execution_count": 85,
   "id": "4fb16bbc",
   "metadata": {},
   "outputs": [
    {
     "name": "stdout",
     "output_type": "stream",
     "text": [
      "tensor([[0., 0.],\n",
      "        [0., 1.],\n",
      "        [0., 1.],\n",
      "        [1., 0.]])\n"
     ]
    }
   ],
   "source": [
    "# your code here\n",
    "data_target = torch.tensor([[0, 0], [0, 1], [0, 1], [1, 0]]).float()\n",
    "print(data_target)"
   ]
  },
  {
   "cell_type": "code",
   "execution_count": 86,
   "id": "cde91f6f",
   "metadata": {},
   "outputs": [],
   "source": [
    "# your code here\n",
    "# Train the model\n",
    "import matplotlib.pyplot as plt\n",
    "\n",
    "def get_accuracy(predicted):\n",
    "    count_correct = 0\n",
    "    for i in range(len(data_in)):\n",
    "        predicted_first_bit = predicted[i][0] >= 0.5 \n",
    "        predicted_second_bit = predicted[i][1] >= 0.5 \n",
    "        count_correct += (predicted_first_bit == data_target[i][0] and predicted_second_bit == data_target[i][1])\n",
    "    return count_correct / len(data_in)\n",
    "\n",
    "def plot_graph(losses_history):\n",
    "    fig = plt.figure()\n",
    "    plt.title('loss')\n",
    "    plt.plot([loss[0] for loss in losses_history], [loss[1] for loss in losses_history])\n",
    "\n",
    "def train_model(model, optimizer, criterion = nn.MSELoss(reduction='sum'), no_epochs=5001):\n",
    "    losses_history = []\n",
    "    \n",
    "    for epoch in range(no_epochs):\n",
    "        predicted = model(data_in)\n",
    "        loss_here = criterion(predicted, data_target)\n",
    "        \n",
    "        optimizer.zero_grad()\n",
    "        loss_here.backward()\n",
    "        optimizer.step()\n",
    "\n",
    "        if epoch % 100 == 0:\n",
    "            losses_history.append([epoch, loss_here.item()])\n",
    "        \n",
    "        if epoch % 1000 == 0:\n",
    "            print(\"Loss after epoch \" + str(epoch) + \" using loss \" + str(criterion) + \": \" + str(loss_here.item()))\n",
    "\n",
    "    print(\"Accuracy after \" + str(no_epochs) + \" epochs: \" + str(get_accuracy(model(data_in)).item()))\n",
    "    plot_graph(losses_history)\n"
   ]
  },
  {
   "cell_type": "code",
   "execution_count": 87,
   "id": "f922e0b0-e846-4436-9b48-6a67c1ac1fc5",
   "metadata": {},
   "outputs": [
    {
     "name": "stdout",
     "output_type": "stream",
     "text": [
      "Loss after epoch 0 using loss MSELoss(): 1.9292993545532227\n",
      "Loss after epoch 1000 using loss MSELoss(): 1.1424896717071533\n",
      "Loss after epoch 2000 using loss MSELoss(): 0.7998927235603333\n",
      "Loss after epoch 3000 using loss MSELoss(): 0.7292110323905945\n",
      "Loss after epoch 4000 using loss MSELoss(): 0.7068506479263306\n",
      "Loss after epoch 5000 using loss MSELoss(): 0.696100115776062\n",
      "Accuracy after 5001 epochs: 0.75\n"
     ]
    },
    {
     "data": {
      "image/png": "[encoded data removed]",
      "text/plain": [
       "<Figure size 640x480 with 1 Axes>"
      ]
     },
     "metadata": {},
     "output_type": "display_data"
    }
   ],
   "source": [
    "# train_model(model1, optimizer1, criterion=nn.BCEWithLogitsLoss())\n",
    "train_model(model1, optimizer1)"
   ]
  },
  {
   "cell_type": "code",
   "execution_count": 88,
   "id": "7c783f4e-8f44-4665-8115-64ef379f14b4",
   "metadata": {},
   "outputs": [
    {
     "name": "stdout",
     "output_type": "stream",
     "text": [
      "Loss after epoch 0 using loss MSELoss(): 2.2458035945892334\n",
      "Loss after epoch 1000 using loss MSELoss(): 0.9738552570343018\n",
      "Loss after epoch 2000 using loss MSELoss(): 0.07698317617177963\n",
      "Loss after epoch 3000 using loss MSELoss(): 0.021642910316586494\n",
      "Loss after epoch 4000 using loss MSELoss(): 0.011684255674481392\n",
      "Loss after epoch 5000 using loss MSELoss(): 0.007808360271155834\n",
      "Accuracy after 5001 epochs: 1.0\n"
     ]
    },
    {
     "data": {
      "image/png": "[encoded data removed]",
      "text/plain": [
       "<Figure size 640x480 with 1 Axes>"
      ]
     },
     "metadata": {},
     "output_type": "display_data"
    }
   ],
   "source": [
    "# train_model(model2, optimizer2, criterion=nn.BCEWithLogitsLoss())\n",
    "train_model(model2, optimizer2)"
   ]
  },
  {
   "cell_type": "code",
   "execution_count": 89,
   "id": "d2b3735e-fbe1-45d6-a57b-d214d0ca3c4f",
   "metadata": {},
   "outputs": [
    {
     "name": "stdout",
     "output_type": "stream",
     "text": [
      "Loss after epoch 0 using loss MSELoss(): 1.9795104265213013\n",
      "Loss after epoch 1000 using loss MSELoss(): 0.009241726249456406\n",
      "Loss after epoch 2000 using loss MSELoss(): 0.00351054803468287\n",
      "Loss after epoch 3000 using loss MSELoss(): 0.0021121224854141474\n",
      "Loss after epoch 4000 using loss MSELoss(): 0.0014952911296859384\n",
      "Loss after epoch 5000 using loss MSELoss(): 0.0011511541670188308\n",
      "Accuracy after 5001 epochs: 1.0\n"
     ]
    },
    {
     "data": {
      "image/png": "[encoded data removed]",
      "text/plain": [
       "<Figure size 640x480 with 1 Axes>"
      ]
     },
     "metadata": {},
     "output_type": "display_data"
    }
   ],
   "source": [
    "# train_model(model3, optimizer3, criterion=nn.BCEWithLogitsLoss())\n",
    "train_model(model3, optimizer3)"
   ]
  },
  {
   "cell_type": "code",
   "execution_count": 90,
   "id": "92fdbf7d-4163-4520-af05-745de73db052",
   "metadata": {},
   "outputs": [
    {
     "name": "stdout",
     "output_type": "stream",
     "text": [
      "Loss after epoch 0 using loss MSELoss(): 1.9083828926086426\n",
      "Loss after epoch 1000 using loss MSELoss(): 0.000942534941714257\n",
      "Loss after epoch 2000 using loss MSELoss(): 0.0002516490058042109\n",
      "Loss after epoch 3000 using loss MSELoss(): 0.0001323939359281212\n",
      "Loss after epoch 4000 using loss MSELoss(): 8.66394184413366e-05\n",
      "Loss after epoch 5000 using loss MSELoss(): 6.317318911897019e-05\n",
      "Accuracy after 5001 epochs: 1.0\n"
     ]
    },
    {
     "data": {
      "image/png": "[encoded data removed]",
      "text/plain": [
       "<Figure size 640x480 with 1 Axes>"
      ]
     },
     "metadata": {},
     "output_type": "display_data"
    }
   ],
   "source": [
    "# train_model(model4, optimizer4, criterion=nn.BCEWithLogitsLoss())\n",
    "train_model(model4, optimizer4)"
   ]
  },
  {
   "cell_type": "code",
   "execution_count": null,
   "id": "456a847c-0fec-482b-a976-b31aaec6b4d0",
   "metadata": {},
   "outputs": [],
   "source": []
  },
  {
   "cell_type": "code",
   "execution_count": null,
   "id": "dff3ec1a",
   "metadata": {},
   "outputs": [],
   "source": []
  },
  {
   "cell_type": "code",
   "execution_count": 92,
   "id": "c1a7518b",
   "metadata": {},
   "outputs": [
    {
     "name": "stdout",
     "output_type": "stream",
     "text": [
      "Parameter containing:\n",
      "tensor([[-0.7667, -0.7852],\n",
      "        [-1.2274, -0.8603],\n",
      "        [ 0.9730,  1.4304],\n",
      "        [-0.5300, -0.7113]], requires_grad=True)\n",
      "Parameter containing:\n",
      "tensor([[ 0.1220,  1.2216, -0.5857,  0.5388],\n",
      "        [-0.2920, -0.3774, -0.1762,  0.3134],\n",
      "        [-0.4859, -0.5523,  0.6238, -0.0034],\n",
      "        [ 0.2245,  0.3244, -0.1570,  0.3608],\n",
      "        [ 0.3280, -0.3077,  0.6539,  0.2438],\n",
      "        [ 0.0714, -0.2847,  0.3326,  0.1675],\n",
      "        [ 0.4100, -0.1240, -0.2921,  0.3178],\n",
      "        [ 0.5334,  0.1814, -0.0584,  0.6142],\n",
      "        [ 0.5159,  0.5810, -0.2324, -0.0519],\n",
      "        [ 0.4980,  0.7003,  0.0773,  0.2892],\n",
      "        [-0.2534,  0.3808,  0.0565,  0.3079],\n",
      "        [ 0.5003, -0.4236, -0.1331,  0.2093],\n",
      "        [-0.6581, -0.8338,  1.1738, -0.2936],\n",
      "        [ 0.1525,  0.0687, -0.3429,  0.6781],\n",
      "        [ 0.6392,  1.4442, -0.5002,  0.2338],\n",
      "        [-0.1777, -0.8763,  0.2650, -0.2301]], requires_grad=True)\n",
      "Parameter containing:\n",
      "tensor([[ 0.7910, -0.2244, -0.2881,  0.3575,  0.4707, -0.1303, -0.0610,  0.3039,\n",
      "          0.5038,  0.4277,  0.1648,  0.2162, -0.5614,  0.4179,  1.2198, -0.4711],\n",
      "        [-0.6805,  0.1684,  0.5152, -0.3019,  0.3196,  0.1098,  0.0990, -0.3082,\n",
      "         -0.4355, -0.2706, -0.2250,  0.1825,  0.9321, -0.2354, -0.8738,  0.6890],\n",
      "        [ 0.8466, -0.1463, -0.3238,  0.3088, -0.3475,  0.1026,  0.2799,  0.3591,\n",
      "          0.3395,  0.3573,  0.1428,  0.0281, -1.4709,  0.2341,  0.7788, -0.3287],\n",
      "        [ 0.1427, -0.1094, -0.0537,  0.2358, -0.0559,  0.0467, -0.2122, -0.1232,\n",
      "         -0.0051, -0.1688, -0.1260, -0.1488,  0.5521,  0.0341,  0.0390,  0.0352]],\n",
      "       requires_grad=True)\n",
      "Parameter containing:\n",
      "tensor([[-1.8489,  0.9228, -1.1112,  0.3969],\n",
      "        [ 0.5911, -1.5539, -1.7964,  0.4997]], requires_grad=True)\n"
     ]
    }
   ],
   "source": [
    "# your code here\n",
    "# print model wights\n",
    "print(model4[0].weight)\n",
    "print(model4[2].weight)\n",
    "print(model4[4].weight)\n",
    "print(model4[6].weight)"
   ]
  },
  {
   "cell_type": "code",
   "execution_count": 100,
   "id": "d0bea66c",
   "metadata": {},
   "outputs": [],
   "source": [
    "# model4(data_in[3])"
   ]
  },
  {
   "cell_type": "code",
   "execution_count": null,
   "id": "e29c65a2",
   "metadata": {},
   "outputs": [],
   "source": []
  }
 ],
 "metadata": {
  "kernelspec": {
   "display_name": "Python 3 (ipykernel)",
   "language": "python",
   "name": "python3"
  },
  "language_info": {
   "codemirror_mode": {
    "name": "ipython",
    "version": 3
   },
   "file_extension": ".py",
   "mimetype": "text/x-python",
   "name": "python",
   "nbconvert_exporter": "python",
   "pygments_lexer": "ipython3",
   "version": "3.11.8"
  }
 },
 "nbformat": 4,
 "nbformat_minor": 5
}
